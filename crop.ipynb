{
 "cells": [
  {
   "cell_type": "code",
   "execution_count": 1,
   "metadata": {},
   "outputs": [
    {
     "name": "stdout",
     "output_type": "stream",
     "text": [
      "Jupyter environment detected. Enabling Open3D WebVisualizer.\n",
      "[Open3D INFO] WebRTC GUI backend enabled.\n",
      "[Open3D INFO] WebRTCWindowSystem: HTTP handshake server disabled.\n"
     ]
    }
   ],
   "source": [
    "import open3d as o3d\n",
    "import numpy as np\n"
   ]
  },
  {
   "cell_type": "code",
   "execution_count": 2,
   "metadata": {},
   "outputs": [],
   "source": [
    "data_dir = \"./data\"\n",
    "crop_data = \"cropped_kota.ply\"\n",
    "data_path = f\"{data_dir}/{crop_data}\"\n",
    "output_dir = \"./output\"\n",
    "output_filename = \"crop_res.ply\"\n",
    "output_path = f\"{output_dir}/{output_filename}\""
   ]
  },
  {
   "cell_type": "code",
   "execution_count": 3,
   "metadata": {},
   "outputs": [],
   "source": [
    "pcd_crop_data = o3d.io.read_point_cloud(data_path)"
   ]
  },
  {
   "cell_type": "code",
   "execution_count": 4,
   "metadata": {},
   "outputs": [],
   "source": [
    "pcd_crop_data.estimate_normals(\n",
    "    search_param=o3d.geometry.KDTreeSearchParamHybrid(radius=0.4, max_nn=100))\n",
    "o3d.visualization.draw_geometries([pcd_crop_data])"
   ]
  },
  {
   "cell_type": "code",
   "execution_count": 5,
   "metadata": {},
   "outputs": [
    {
     "data": {
      "text/plain": [
       "True"
      ]
     },
     "execution_count": 5,
     "metadata": {},
     "output_type": "execute_result"
    }
   ],
   "source": [
    "points = np.asarray(pcd_crop_data.points)\n",
    "colors = np.asarray(pcd_crop_data.colors)\n",
    "normals = np.asarray(pcd_crop_data.normals)\n",
    "for i in range(len(points)):\n",
    "    if normals[i][2] >= 0.95:\n",
    "        if colors[i][0] > 128/255 and colors[i][1] > 128/255 and colors[i][2] > 128/255:\n",
    "            colors[i][0]= 0.92\n",
    "            colors[i][1]= 0.04\n",
    "            colors[i][2]= 0.89\n",
    "        \n",
    "pcd_crop_data.colors = o3d.utility.Vector3dVector(colors)\n",
    "o3d.visualization.draw_geometries([pcd_crop_data])\n",
    "o3d.io.write_point_cloud(output_path, pcd_crop_data, write_ascii=True)"
   ]
  }
 ],
 "metadata": {
  "kernelspec": {
   "display_name": "Python 3",
   "language": "python",
   "name": "python3"
  },
  "language_info": {
   "codemirror_mode": {
    "name": "ipython",
    "version": 3
   },
   "file_extension": ".py",
   "mimetype": "text/x-python",
   "name": "python",
   "nbconvert_exporter": "python",
   "pygments_lexer": "ipython3",
   "version": "3.11.9"
  }
 },
 "nbformat": 4,
 "nbformat_minor": 2
}
