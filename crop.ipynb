{
 "cells": [
  {
   "cell_type": "code",
   "execution_count": 90,
   "metadata": {},
   "outputs": [],
   "source": [
    "import open3d as o3d\n",
    "import numpy as np\n"
   ]
  },
  {
   "cell_type": "code",
   "execution_count": 91,
   "metadata": {},
   "outputs": [],
   "source": [
    "data_dir = \"./data\"\n",
    "crop_data = \"crop_data.ply\"\n",
    "data_path = f\"{data_dir}/{crop_data}\"\n",
    "output_dir = \"./output\"\n",
    "output_filename = \"crop_res.ply\"\n",
    "output_path = f\"{output_dir}/{output_filename}\""
   ]
  },
  {
   "cell_type": "code",
   "execution_count": 92,
   "metadata": {},
   "outputs": [],
   "source": [
    "pcd_crop_data = o3d.io.read_point_cloud(data_path)\n",
    "o3d.visualization.draw_geometries([pcd_crop_data],)"
   ]
  },
  {
   "cell_type": "code",
   "execution_count": 93,
   "metadata": {},
   "outputs": [],
   "source": [
    "pcd_crop_data.estimate_normals(\n",
    "    search_param=o3d.geometry.KDTreeSearchParamHybrid(radius=0.1, max_nn=30))\n",
    "o3d.visualization.draw_geometries([pcd_crop_data])"
   ]
  },
  {
   "cell_type": "code",
   "execution_count": 94,
   "metadata": {},
   "outputs": [
    {
     "data": {
      "text/plain": [
       "True"
      ]
     },
     "execution_count": 94,
     "metadata": {},
     "output_type": "execute_result"
    }
   ],
   "source": [
    "points = np.asarray(pcd_crop_data.points)\n",
    "colors = np.asarray(pcd_crop_data.colors)\n",
    "\n",
    "for i in range(len(points)):\n",
    "    if points[i][2] >= -89:\n",
    "        colors[i][0] = 0   \n",
    "        colors[i][1] = 0   \n",
    "        colors[i][2] = 1   \n",
    "        \n",
    "pcd_crop_data.colors = o3d.utility.Vector3dVector(colors)\n",
    "o3d.visualization.draw_geometries([pcd_crop_data])\n",
    "o3d.io.write_point_cloud(output_path, pcd_crop_data, write_ascii=True)"
   ]
  }
 ],
 "metadata": {
  "kernelspec": {
   "display_name": "Python 3",
   "language": "python",
   "name": "python3"
  },
  "language_info": {
   "codemirror_mode": {
    "name": "ipython",
    "version": 3
   },
   "file_extension": ".py",
   "mimetype": "text/x-python",
   "name": "python",
   "nbconvert_exporter": "python",
   "pygments_lexer": "ipython3",
   "version": "3.11.8"
  }
 },
 "nbformat": 4,
 "nbformat_minor": 2
}
